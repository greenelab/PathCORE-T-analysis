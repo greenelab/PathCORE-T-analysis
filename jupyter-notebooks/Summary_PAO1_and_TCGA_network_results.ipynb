{
 "cells": [
  {
   "cell_type": "code",
   "execution_count": 1,
   "metadata": {
    "collapsed": true
   },
   "outputs": [],
   "source": [
    "import os\n",
    "\n",
    "import numpy as np\n",
    "import pandas as pd"
   ]
  },
  {
   "cell_type": "code",
   "execution_count": 2,
   "metadata": {
    "collapsed": true
   },
   "outputs": [],
   "source": [
    "data_dir = os.path.join(\"..\", \"data\")\n",
    "pao1_data = os.path.join(data_dir, \"pao1_data\")\n",
    "tcga_data = os.path.join(data_dir, \"tcga_data\")"
   ]
  },
  {
   "cell_type": "code",
   "execution_count": 3,
   "metadata": {},
   "outputs": [],
   "source": [
    "pao1_kegg_edges_file = os.path.join(\n",
    "    pao1_data, \"eADAGE_analysis\", \"permutation_test_n=10000\", \"filtered_network.tsv\")\n",
    "tcga_pid_edges_file = os.path.join(\n",
    "    tcga_data, \"NMF_analysis\", \"permutation_test_n=10000\", \"filtered_network.tsv\")\n",
    "\n",
    "kegg_pathways = os.path.join(pao1_data, \"pseudomonas_KEGG_terms.txt\")\n",
    "pid_pathways = os.path.join(tcga_data, \"PID_pathway_definitions.txt\")"
   ]
  },
  {
   "cell_type": "code",
   "execution_count": 4,
   "metadata": {
    "collapsed": true
   },
   "outputs": [],
   "source": [
    "def load_pathway_definitions_file(pathways_file, shorten_pathway_name):\n",
    "    pathway_definitions_df = pd.read_table(\n",
    "        pathways_file, header=None, names=[\"pw\", \"size\", \"genes\"])\n",
    "    pathway_definitions_df[\"genes\"] = pathway_definitions_df[\"genes\"].map(\n",
    "        lambda x: x.split(\";\"))\n",
    "    pathway_definitions_df.set_index(\"pw\", inplace=True)\n",
    "\n",
    "    pathway_definitions_map = {}\n",
    "    for index, row in pathway_definitions_df.iterrows():\n",
    "        pathway = shorten_pathway_name(index)\n",
    "        pathway_definitions_map[pathway] = set(row[\"genes\"])\n",
    "    return pathway_definitions_map"
   ]
  },
  {
   "cell_type": "code",
   "execution_count": 5,
   "metadata": {},
   "outputs": [
    {
     "data": {
      "text/html": [
       "<div>\n",
       "<style>\n",
       "    .dataframe thead tr:only-child th {\n",
       "        text-align: right;\n",
       "    }\n",
       "\n",
       "    .dataframe thead th {\n",
       "        text-align: left;\n",
       "    }\n",
       "\n",
       "    .dataframe tbody tr th {\n",
       "        vertical-align: top;\n",
       "    }\n",
       "</style>\n",
       "<table border=\"1\" class=\"dataframe\">\n",
       "  <thead>\n",
       "    <tr style=\"text-align: right;\">\n",
       "      <th></th>\n",
       "      <th>pw0</th>\n",
       "      <th>pw1</th>\n",
       "      <th>weight</th>\n",
       "    </tr>\n",
       "  </thead>\n",
       "  <tbody>\n",
       "    <tr>\n",
       "      <th>0</th>\n",
       "      <td>Ribosome PAO1</td>\n",
       "      <td>Ribosome, bacteria</td>\n",
       "      <td>26.089640</td>\n",
       "    </tr>\n",
       "    <tr>\n",
       "      <th>1</th>\n",
       "      <td>Phosphonate and phosphinate metabolism PAO1</td>\n",
       "      <td>Phosphonate transport system</td>\n",
       "      <td>25.455394</td>\n",
       "    </tr>\n",
       "    <tr>\n",
       "      <th>2</th>\n",
       "      <td>Macrolide resistance, MacAB-TolC transporter</td>\n",
       "      <td>Zinc transport system</td>\n",
       "      <td>23.170151</td>\n",
       "    </tr>\n",
       "    <tr>\n",
       "      <th>3</th>\n",
       "      <td>Phosphonate and phosphinate metabolism PAO1</td>\n",
       "      <td>Type II general secretion pathway</td>\n",
       "      <td>21.168310</td>\n",
       "    </tr>\n",
       "    <tr>\n",
       "      <th>4</th>\n",
       "      <td>Glycine betaine/proline transport system</td>\n",
       "      <td>Glycine, serine and threonine metabolism PAO1</td>\n",
       "      <td>19.221697</td>\n",
       "    </tr>\n",
       "  </tbody>\n",
       "</table>\n",
       "</div>"
      ],
      "text/plain": [
       "                                            pw0  \\\n",
       "0                                 Ribosome PAO1   \n",
       "1   Phosphonate and phosphinate metabolism PAO1   \n",
       "2  Macrolide resistance, MacAB-TolC transporter   \n",
       "3   Phosphonate and phosphinate metabolism PAO1   \n",
       "4      Glycine betaine/proline transport system   \n",
       "\n",
       "                                             pw1     weight  \n",
       "0                             Ribosome, bacteria  26.089640  \n",
       "1                   Phosphonate transport system  25.455394  \n",
       "2                          Zinc transport system  23.170151  \n",
       "3              Type II general secretion pathway  21.168310  \n",
       "4  Glycine, serine and threonine metabolism PAO1  19.221697  "
      ]
     },
     "execution_count": 5,
     "metadata": {},
     "output_type": "execute_result"
    }
   ],
   "source": [
    "pao1_kegg_network = pd.read_table(pao1_kegg_edges_file)\n",
    "pao1_kegg_network.head()"
   ]
  },
  {
   "cell_type": "code",
   "execution_count": 6,
   "metadata": {},
   "outputs": [],
   "source": [
    "# shorten the PAO1 KEGG pathway names so that they match the ones\n",
    "# we use in the publication\n",
    "def shorten_pao1_kegg(pathway_name):\n",
    "    REMOVE_SUFFIX = \"- Pseudomonas aeruginosa PAO1\"\n",
    "    pathway_short = None\n",
    "    split_label = pathway_name.split(\" \", 1)\n",
    "    if len(split_label) > 1:\n",
    "        pathway_short = split_label[1]\n",
    "    else:\n",
    "        pathway_short = split_label[0]\n",
    "    if REMOVE_SUFFIX in pathway_short:\n",
    "        remove_from_index = pathway_short.index(REMOVE_SUFFIX)\n",
    "        return \"{0}PAO1\".format(pathway_short[:remove_from_index])\n",
    "    return pathway_short.strip()\n",
    "\n",
    "kegg_pathways_dict = load_pathway_definitions_file(\n",
    "    kegg_pathways, shorten_pao1_kegg)"
   ]
  },
  {
   "cell_type": "code",
   "execution_count": 7,
   "metadata": {},
   "outputs": [
    {
     "name": "stdout",
     "output_type": "stream",
     "text": [
      "For the PAO1 KEGG pathway-pathway co-occurrence network:\n",
      "Number of distinct pathways in the network: 89\n",
      "Number of edges in the network: 203\n",
      "Number of edges in the network where the 2 pathways share genes: 35 (average similarity by Jaccard Index: 0.03482)\n"
     ]
    }
   ],
   "source": [
    "pathways_in_kegg_network = set(\n",
    "    pao1_kegg_network[\"pw0\"].tolist() + pao1_kegg_network[\"pw1\"].tolist())\n",
    "\n",
    "n_overlapping = 0\n",
    "edge_jaccards = []\n",
    "for index, row in pao1_kegg_network.iterrows():\n",
    "    pw0_genes = kegg_pathways_dict[row[\"pw0\"]] \n",
    "    pw1_genes = kegg_pathways_dict[row[\"pw1\"]]\n",
    "    overlap = pw0_genes & pw1_genes\n",
    "    if overlap:\n",
    "        n_overlapping += 1\n",
    "    jaccard = float(len(overlap)) / (len(pw0_genes) + len(pw1_genes) - len(overlap))\n",
    "    edge_jaccards.append(jaccard)        \n",
    "        \n",
    "print(\"For the PAO1 KEGG pathway-pathway co-occurrence network:\")\n",
    "print(\"Number of distinct pathways in the network: {0}\".format(\n",
    "    len(pathways_in_kegg_network)))\n",
    "print(\"Number of edges in the network: {0}\".format(\n",
    "    pao1_kegg_network.shape[0]))\n",
    "print(\"Number of edges in the network where the 2 pathways \"\n",
    "      \"share genes: {0} (average similarity by Jaccard Index: {1:.4})\".format(\n",
    "          n_overlapping, np.average(edge_jaccards)))"
   ]
  },
  {
   "cell_type": "code",
   "execution_count": 8,
   "metadata": {},
   "outputs": [
    {
     "data": {
      "text/html": [
       "<div>\n",
       "<style>\n",
       "    .dataframe thead tr:only-child th {\n",
       "        text-align: right;\n",
       "    }\n",
       "\n",
       "    .dataframe thead th {\n",
       "        text-align: left;\n",
       "    }\n",
       "\n",
       "    .dataframe tbody tr th {\n",
       "        vertical-align: top;\n",
       "    }\n",
       "</style>\n",
       "<table border=\"1\" class=\"dataframe\">\n",
       "  <thead>\n",
       "    <tr style=\"text-align: right;\">\n",
       "      <th></th>\n",
       "      <th>pw0</th>\n",
       "      <th>pw1</th>\n",
       "      <th>weight</th>\n",
       "      <th>features</th>\n",
       "    </tr>\n",
       "  </thead>\n",
       "  <tbody>\n",
       "    <tr>\n",
       "      <th>0</th>\n",
       "      <td>E2F</td>\n",
       "      <td>PLK1</td>\n",
       "      <td>6.543478</td>\n",
       "      <td>19.0 29.0 39.0 44.0 59.0 114.0 115.0 158.0</td>\n",
       "    </tr>\n",
       "    <tr>\n",
       "      <th>1</th>\n",
       "      <td>AURORA B</td>\n",
       "      <td>E2F</td>\n",
       "      <td>6.531936</td>\n",
       "      <td>19.0 29.0 39.0 44.0 59.0 114.0 115.0 158.0</td>\n",
       "    </tr>\n",
       "    <tr>\n",
       "      <th>2</th>\n",
       "      <td>AURORA B</td>\n",
       "      <td>PLK1</td>\n",
       "      <td>6.341347</td>\n",
       "      <td>19.0 29.0 39.0 44.0 59.0 114.0 115.0 158.0</td>\n",
       "    </tr>\n",
       "    <tr>\n",
       "      <th>3</th>\n",
       "      <td>E2F</td>\n",
       "      <td>FOXM1</td>\n",
       "      <td>5.974458</td>\n",
       "      <td>19.0 29.0 39.0 44.0 59.0 115.0 158.0</td>\n",
       "    </tr>\n",
       "    <tr>\n",
       "      <th>4</th>\n",
       "      <td>AURORA B</td>\n",
       "      <td>FOXM1</td>\n",
       "      <td>5.873026</td>\n",
       "      <td>19.0 29.0 39.0 44.0 59.0 115.0 158.0</td>\n",
       "    </tr>\n",
       "  </tbody>\n",
       "</table>\n",
       "</div>"
      ],
      "text/plain": [
       "        pw0    pw1    weight                                    features\n",
       "0       E2F   PLK1  6.543478  19.0 29.0 39.0 44.0 59.0 114.0 115.0 158.0\n",
       "1  AURORA B    E2F  6.531936  19.0 29.0 39.0 44.0 59.0 114.0 115.0 158.0\n",
       "2  AURORA B   PLK1  6.341347  19.0 29.0 39.0 44.0 59.0 114.0 115.0 158.0\n",
       "3       E2F  FOXM1  5.974458        19.0 29.0 39.0 44.0 59.0 115.0 158.0\n",
       "4  AURORA B  FOXM1  5.873026        19.0 29.0 39.0 44.0 59.0 115.0 158.0"
      ]
     },
     "execution_count": 8,
     "metadata": {},
     "output_type": "execute_result"
    }
   ],
   "source": [
    "tcga_pid_network = pd.read_table(tcga_pid_edges_file)\n",
    "tcga_pid_network.head()"
   ]
  },
  {
   "cell_type": "code",
   "execution_count": 9,
   "metadata": {
    "collapsed": true
   },
   "outputs": [],
   "source": [
    "# shorten the PID pathway names so that they match the ones\n",
    "# we use in the publication\n",
    "def shorten_tcga_pid(pathway_name):\n",
    "    REMOVE_SUFFIX = \"PATHWAY\"\n",
    "    pathway_short = None\n",
    "    split_on_underscores = pathway_name.split(\"_\")\n",
    "    if split_on_underscores[-1] == REMOVE_SUFFIX:\n",
    "        pathway_short = \" \".join(split_on_underscores[:-1])\n",
    "    else:\n",
    "        pathway_short = \" \".join(split_on_underscores)\n",
    "    return pathway_short\n",
    "\n",
    "pid_pathways_dict = load_pathway_definitions_file(\n",
    "    pid_pathways, shorten_tcga_pid)"
   ]
  },
  {
   "cell_type": "code",
   "execution_count": 10,
   "metadata": {},
   "outputs": [
    {
     "name": "stdout",
     "output_type": "stream",
     "text": [
      "For the TCGA PID pathway-pathway co-occurrence network:\n",
      "Number of distinct pathways in the network: 89\n",
      "Number of edges in the network: 203\n",
      "Number of edges in the network where the 2 pathways share genes: 96 (average similarity by Jaccard Index: 0.05783)\n"
     ]
    }
   ],
   "source": [
    "pathways_in_pid_network = set(\n",
    "    tcga_pid_network[\"pw0\"].tolist() + tcga_pid_network[\"pw1\"].tolist())\n",
    "\n",
    "n_overlapping = 0\n",
    "edge_jaccards = []\n",
    "for index, row in tcga_pid_network.iterrows():\n",
    "    pw0_genes = pid_pathways_dict[row[\"pw0\"]] \n",
    "    pw1_genes = pid_pathways_dict[row[\"pw1\"]]\n",
    "    overlap = pw0_genes & pw1_genes\n",
    "    if overlap:\n",
    "        n_overlapping += 1\n",
    "    jaccard = float(len(overlap)) / (len(pw0_genes) + len(pw1_genes) - len(overlap))\n",
    "    edge_jaccards.append(jaccard)\n",
    "\n",
    "print(\"For the TCGA PID pathway-pathway co-occurrence network:\")\n",
    "print(\"Number of distinct pathways in the network: {0}\".format(\n",
    "    len(pathways_in_kegg_network)))\n",
    "print(\"Number of edges in the network: {0}\".format(\n",
    "    pao1_kegg_network.shape[0]))\n",
    "print(\"Number of edges in the network where the 2 pathways \"\n",
    "      \"share genes: {0} (average similarity by Jaccard Index: {1:.4})\".format(\n",
    "          n_overlapping, np.average(edge_jaccards)))"
   ]
  }
 ],
 "metadata": {
  "kernelspec": {
   "display_name": "Python [default]",
   "language": "python",
   "name": "python3"
  },
  "language_info": {
   "codemirror_mode": {
    "name": "ipython",
    "version": 3
   },
   "file_extension": ".py",
   "mimetype": "text/x-python",
   "name": "python",
   "nbconvert_exporter": "python",
   "pygments_lexer": "ipython3",
   "version": "3.6.1"
  }
 },
 "nbformat": 4,
 "nbformat_minor": 2
}
