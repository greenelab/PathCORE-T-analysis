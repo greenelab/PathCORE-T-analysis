{
 "cells": [
  {
   "cell_type": "code",
   "execution_count": 1,
   "metadata": {
    "collapsed": true
   },
   "outputs": [],
   "source": [
    "%matplotlib inline"
   ]
  },
  {
   "cell_type": "markdown",
   "metadata": {},
   "source": [
    "## Example: applying the PathCORE-T software to 10 _k_=24 NMF models of the normalized TCGA dataset."
   ]
  },
  {
   "cell_type": "code",
   "execution_count": 2,
   "metadata": {},
   "outputs": [
    {
     "name": "stdout",
     "output_type": "stream",
     "text": [
      "Automatically created module for IPython interactive environment\n"
     ]
    }
   ],
   "source": [
    "print(__doc__)\n",
    "\n",
    "from copy import deepcopy\n",
    "from functools import partial\n",
    "import os\n",
    "\n",
    "import numpy as np\n",
    "import matplotlib.pyplot as plt\n",
    "import pandas as pd\n",
    "from pathcore import CoNetwork\n",
    "from pathcore import aggregate_permuted_network, \\\n",
    "        network_edges_permutation_test\n",
    "from pathcore import pathway_enrichment_with_overlap_correction\n",
    "import seaborn as sns\n",
    "from sklearn.decomposition import NMF, PCA"
   ]
  },
  {
   "cell_type": "markdown",
   "metadata": {},
   "source": [
    "This example is run after the TCGA dataset has been downloaded and normalized.\n",
    "You can download the file from the Zenodo record [here](https://zenodo.org/record/56735) or use the [shell script in the `../data` directory](https://github.com/greenelab/PathCORE-T-analysis/blob/master/data/download_data.sh) (keep in mind this \n",
    "script will download more than just the TCGA dataset). \n",
    "\n",
    "After downloading the file, use the script [`get_normalized_TCGA_dataset.py`](https://github.com/greenelab/PathCORE-T-analysis/blob/master/data/get_normalized_TCGA_dataset.py)\n",
    "to get the normalized dataset."
   ]
  },
  {
   "cell_type": "code",
   "execution_count": 3,
   "metadata": {},
   "outputs": [],
   "source": [
    "data_dir = os.path.join(\"..\", \"data\")\n",
    "tcga_data_dir = os.path.join(data_dir, \"tcga_data\")\n",
    "\n",
    "data_file = os.path.join(tcga_data_dir, \"HiSeqV2_minmaxscale_normalized\")\n",
    "pathways_file = os.path.join(tcga_data_dir, \"PID_pathway_definitions.txt\")"
   ]
  },
  {
   "cell_type": "markdown",
   "metadata": {},
   "source": [
    "Load the normalized dataset"
   ]
  },
  {
   "cell_type": "code",
   "execution_count": 4,
   "metadata": {
    "collapsed": true
   },
   "outputs": [],
   "source": [
    "data_df = pd.read_table(data_file, header=0)\n",
    "index_on = data_df.columns[0]\n",
    "data_df.set_index(index_on, inplace=True)\n",
    "data_df = data_df.sort_index()"
   ]
  },
  {
   "cell_type": "markdown",
   "metadata": {},
   "source": [
    "### Analysis: determining the number of NMF components by examining the principal components of the dataset"
   ]
  },
  {
   "cell_type": "markdown",
   "metadata": {},
   "source": [
    "Visualize the fraction of total variance in the data explained by each principal component in Principal Components Analysis (PCA) to determine an appropriate number of NMF components. "
   ]
  },
  {
   "cell_type": "code",
   "execution_count": 5,
   "metadata": {
    "scrolled": true
   },
   "outputs": [
    {
     "data": {
      "image/png": "[encoded data removed]",
      "text/plain": [
       "<matplotlib.figure.Figure at 0x11953fdd8>"
      ]
     },
     "metadata": {},
     "output_type": "display_data"
    }
   ],
   "source": [
    "n_components = 50\n",
    "pca = PCA(n_components=n_components, random_state=42)\n",
    "pca.fit(data_df.T)\n",
    "variance_explained = pca.explained_variance_ratio_\n",
    "\n",
    "plt.scatter(\n",
    "    list(range(1, len(variance_explained) + 1)),\n",
    "    variance_explained)\n",
    "plt.xlabel('Principal component number')\n",
    "plt.ylabel('Proportion of variance')\n",
    "plt.title('PCA n_components={0}'.format(n_components))\n",
    "plt.show()"
   ]
  },
  {
   "cell_type": "markdown",
   "metadata": {},
   "source": [
    "The proportion of variance explained by each component, explicitly:"
   ]
  },
  {
   "cell_type": "code",
   "execution_count": 6,
   "metadata": {},
   "outputs": [
    {
     "data": {
      "text/plain": [
       "array([ 0.11266259,  0.06688258,  0.06086373,  0.0460368 ,  0.03688498,\n",
       "        0.03573801,  0.0307545 ,  0.02571392,  0.0227316 ,  0.02125907,\n",
       "        0.01804485,  0.01618074,  0.01360996,  0.01336723,  0.01063505,\n",
       "        0.01049298,  0.0100946 ,  0.00853679,  0.00747129,  0.0066962 ,\n",
       "        0.00634571,  0.0061404 ,  0.0056798 ,  0.0055327 ,  0.00497176,\n",
       "        0.00472375,  0.00457551,  0.00427963,  0.00379434,  0.00369664,\n",
       "        0.00347115,  0.00325509,  0.00310033,  0.00308135,  0.00295372,\n",
       "        0.0028504 ,  0.00279685,  0.00268549,  0.00256166,  0.00248202,\n",
       "        0.00241397,  0.00225573,  0.00222781,  0.00217936,  0.002158  ,\n",
       "        0.00213512,  0.0019845 ,  0.00192908,  0.00188141,  0.00182891])"
      ]
     },
     "execution_count": 6,
     "metadata": {},
     "output_type": "execute_result"
    }
   ],
   "source": [
    "variance_explained"
   ]
  },
  {
   "cell_type": "markdown",
   "metadata": {},
   "source": [
    "We can see that the proportion of variance explained by a PC falls below 0.005 (0.5%) at 24 components. "
   ]
  },
  {
   "cell_type": "code",
   "execution_count": 7,
   "metadata": {},
   "outputs": [
    {
     "data": {
      "text/plain": [
       "0.59835608102161053"
      ]
     },
     "execution_count": 7,
     "metadata": {},
     "output_type": "execute_result"
    }
   ],
   "source": [
    "sum(variance_explained[:24])"
   ]
  },
  {
   "cell_type": "markdown",
   "metadata": {},
   "source": [
    "On the other hand, the total proportion of variance explained by 24 PCs is only 0.60. If we look at the proportion of variance explained by _k_=300, the number of components in the TCGA NMF-based example of our manuscript:"
   ]
  },
  {
   "cell_type": "code",
   "execution_count": 8,
   "metadata": {},
   "outputs": [
    {
     "name": "stdout",
     "output_type": "stream",
     "text": [
      "Percent variance explained by k=300: 0.806375026754258\n"
     ]
    }
   ],
   "source": [
    "n_components = 300\n",
    "pca = PCA(n_components=n_components, random_state=42)\n",
    "pca.fit(data_df.T)\n",
    "print(\"Percent variance explained by k={0}: {1}\".format(\n",
    "    n_components, sum(pca.explained_variance_ratio_)))"
   ]
  },
  {
   "cell_type": "markdown",
   "metadata": {},
   "source": [
    "We note that we would need an extremely large number of PCs to explain 90% of the variance in the data."
   ]
  },
  {
   "cell_type": "markdown",
   "metadata": {},
   "source": [
    "### PathCORE-T analysis"
   ]
  },
  {
   "cell_type": "markdown",
   "metadata": {},
   "source": [
    "In this example, we would like to examine the results of PathCORE-T\n",
    "when we limit the number of NMF components to the number of PCs that\n",
    "each explain greater than 0.5% of the variance in the data.\n",
    "\n",
    "Ahead of creating this notebook, we found that the creation of a single\n",
    "_k_=24 NMF model resulted in 0 significant edges after permutation testing\n",
    "in PathCORE-T. This is because a given pathway-pathway relationship was\n",
    "overrepresented in at most 2 of the NMF components based on the NMF\n",
    "gene signature we specified in the paper (genes with weight 2 standard\n",
    "deviations above the component's mean weight).\n",
    "\n",
    "We proceed here with the construction of 10 _k_=24 NMF models (each initialized\n",
    "with different random seeds). We found that for models with very few components,\n",
    "PathCORE-T analysis can identify meaningful edges by aggregating the results\n",
    "from multiple models. This analysis is similar to what we did for the PAO1\n",
    "eADAGE-based example in the PathCORE-T manuscript."
   ]
  },
  {
   "cell_type": "code",
   "execution_count": 9,
   "metadata": {
    "collapsed": true
   },
   "outputs": [],
   "source": [
    "# initialize constants for the PathCORE-T analysis\n",
    "n_models = 10\n",
    "n_features = 24\n",
    "\n",
    "gene_signature_std = 2.0\n",
    "\n",
    "n_permutations = 10000\n",
    "permutation_test_alpha = 0.05"
   ]
  },
  {
   "cell_type": "code",
   "execution_count": 10,
   "metadata": {},
   "outputs": [
    {
     "name": "stdout",
     "output_type": "stream",
     "text": [
      "Example of a key-value pair in the `pathway_definitions_map` dict:\n",
      "('FANCONI_PATHWAY', {'RAD17', 'FANCD2', 'BRCA1', 'FANCM', 'HUS1', 'BRCA2', 'RFC2', 'FANCB', 'PALB2', 'FAN1', 'FANCE', 'UBE2T', 'FANCL', 'RAD9A', 'APITD1', 'TOP3A', 'RAD1', 'C17orf70', 'RMI1', 'ATM', 'TOPBP1', 'SSPO', 'XRCC3', 'NBN', 'FANCF', 'RFC4', 'FANCC', 'WDR48', 'RFC3', 'USP1', 'RFC5', 'BLM', 'RPA2', 'FANCI', 'C19orf40', 'MRE11A', 'H2AFX', 'HES1', 'FANCA', 'RPA1', 'CHEK1', 'ATR', 'FBXW11', 'ATRIP', 'BRIP1', 'FANCG', 'RAD50'})\n"
     ]
    }
   ],
   "source": [
    "pathway_definitions_df = pd.read_table(\n",
    "    pathways_file, header=None, names=[\"pw\", \"size\", \"genes\"])\n",
    "pathway_definitions_df[\"genes\"] = pathway_definitions_df[\"genes\"].map(\n",
    "    lambda x: x.split(\";\"))\n",
    "pathway_definitions_df.set_index(\"pw\", inplace=True)\n",
    "\n",
    "pathway_definitions_map = {}\n",
    "for index, row in pathway_definitions_df.iterrows():\n",
    "    pathway_definitions_map[index] = set(row[\"genes\"])\n",
    "\n",
    "print(\"Example of a key-value pair in the `pathway_definitions_map` dict:\")\n",
    "print(list(pathway_definitions_map.items())[0])"
   ]
  },
  {
   "cell_type": "code",
   "execution_count": 11,
   "metadata": {},
   "outputs": [
    {
     "name": "stdout",
     "output_type": "stream",
     "text": [
      "CPU times: user 35min 50s, sys: 21 s, total: 36min 11s\n",
      "Wall time: 18min 30s\n"
     ]
    }
   ],
   "source": [
    "%%time\n",
    "models = []\n",
    "for rseed in range(n_models):\n",
    "    model = NMF(n_components=n_features,\n",
    "          init=\"nndsvda\",\n",
    "          solver=\"cd\",\n",
    "          random_state=rseed)\n",
    "    model.fit_transform(data_df.T)\n",
    "    models.append(model)"
   ]
  },
  {
   "cell_type": "code",
   "execution_count": 12,
   "metadata": {},
   "outputs": [],
   "source": [
    "def get_NMF_feature_weights(model):\n",
    "    gene_weights_across_components = {}\n",
    "    for index, gene_weights in enumerate(model.components_.T):\n",
    "        gene = data_df.index[index]\n",
    "        gene_weights_across_components[gene] = list(gene_weights)\n",
    "    weights_df = pd.DataFrame.from_dict(gene_weights_across_components,\n",
    "                                           orient=\"index\")\n",
    "    return weights_df\n",
    "\n",
    "model_weights = []\n",
    "for m in models:\n",
    "    model_weights.append(get_NMF_feature_weights(m))"
   ]
  },
  {
   "cell_type": "code",
   "execution_count": 13,
   "metadata": {
    "collapsed": true
   },
   "outputs": [],
   "source": [
    "def get_pathways_overrepresented_in_features(current_weight_matrix, pathway_definitions,\n",
    "                                             partial_function_signature,\n",
    "                                             alpha=0.05, correct_all_genes=True,\n",
    "                                             metadata=False):\n",
    "    \"\"\"\n",
    "    This method is a simplification of the method already provided in the\n",
    "    PathCORE-T-analysis repository.\n",
    "    See documentation:\n",
    "      https://github.com/greenelab/PathCORE-T-analysis/blob/master/run_network_creation.py#L155\n",
    "    \n",
    "    Modifications:\n",
    "    * Removed the `overlap_correction` parameter for this example\n",
    "      - overlap correction will be applied by default.\n",
    "    * `current_weight_matrix` is just a pandas.DataFrame rather\n",
    "      than a tuple of a filename and a pandas.DataFrame\n",
    "\n",
    "    We kept some of the parameters (alpha, correct_all_genes, metadata)\n",
    "    so that users interested in running the notebook themselves\n",
    "    could examine differences in results that occurs with parameter\n",
    "    changes and/or view the metadata that accompanies this analysis.\n",
    "    \"\"\"\n",
    "    n_genes, _ = current_weight_matrix.shape\n",
    "    significant_pathways_df = pd.DataFrame()\n",
    "    feature_metadata = {}\n",
    "    for feature in current_weight_matrix:\n",
    "        feature_df, additional = \\\n",
    "            pathway_enrichment_with_overlap_correction(\n",
    "                current_weight_matrix[feature], pathway_definitions,\n",
    "                partial_function_signature,\n",
    "                alpha=alpha, correct_all_genes=correct_all_genes,\n",
    "                metadata=metadata)\n",
    "        if feature_df is not None:\n",
    "            feature_df.loc[:, \"feature\"] = pd.Series(\n",
    "                [feature] * len(feature_df.index), index=feature_df.index)\n",
    "            significant_pathways_df = pd.concat(\n",
    "                [significant_pathways_df, feature_df], axis=0)\n",
    "            if additional:\n",
    "                feature_metadata[feature] = additional\n",
    "    significant_pathways_df.reset_index(drop=True, inplace=True)\n",
    "    return {\"significant_pathways\": significant_pathways_df,\n",
    "            \"feature_metadata\": feature_metadata}"
   ]
  },
  {
   "cell_type": "markdown",
   "metadata": {},
   "source": [
    "Pathway overrepresentation analysis applied to each component of each model."
   ]
  },
  {
   "cell_type": "code",
   "execution_count": 14,
   "metadata": {},
   "outputs": [
    {
     "name": "stdout",
     "output_type": "stream",
     "text": [
      "79 adjustments made to a vector of length 196 containing the raw weight values in a call to 'update_probabilities'\n",
      "148 adjustments made to a vector of length 196 containing the raw weight values in a call to 'update_probabilities'\n",
      "98 adjustments made to a vector of length 196 containing the raw weight values in a call to 'update_probabilities'\n",
      "62 adjustments made to a vector of length 196 containing the raw weight values in a call to 'update_probabilities'\n",
      "97 adjustments made to a vector of length 196 containing the raw weight values in a call to 'update_probabilities'\n",
      "83 adjustments made to a vector of length 196 containing the raw weight values in a call to 'update_probabilities'\n",
      "148 adjustments made to a vector of length 196 containing the raw weight values in a call to 'update_probabilities'\n",
      "56 adjustments made to a vector of length 196 containing the raw weight values in a call to 'update_probabilities'\n",
      "138 adjustments made to a vector of length 196 containing the raw weight values in a call to 'update_probabilities'\n",
      "97 adjustments made to a vector of length 196 containing the raw weight values in a call to 'update_probabilities'\n",
      "83 adjustments made to a vector of length 196 containing the raw weight values in a call to 'update_probabilities'\n",
      "148 adjustments made to a vector of length 196 containing the raw weight values in a call to 'update_probabilities'\n",
      "56 adjustments made to a vector of length 196 containing the raw weight values in a call to 'update_probabilities'\n",
      "138 adjustments made to a vector of length 196 containing the raw weight values in a call to 'update_probabilities'\n",
      "97 adjustments made to a vector of length 196 containing the raw weight values in a call to 'update_probabilities'\n",
      "83 adjustments made to a vector of length 196 containing the raw weight values in a call to 'update_probabilities'\n",
      "148 adjustments made to a vector of length 196 containing the raw weight values in a call to 'update_probabilities'\n",
      "79 adjustments made to a vector of length 196 containing the raw weight values in a call to 'update_probabilities'\n",
      "148 adjustments made to a vector of length 196 containing the raw weight values in a call to 'update_probabilities'\n",
      "97 adjustments made to a vector of length 196 containing the raw weight values in a call to 'update_probabilities'\n",
      "56 adjustments made to a vector of length 196 containing the raw weight values in a call to 'update_probabilities'\n",
      "140 adjustments made to a vector of length 196 containing the raw weight values in a call to 'update_probabilities'\n",
      "62 adjustments made to a vector of length 196 containing the raw weight values in a call to 'update_probabilities'\n",
      "97 adjustments made to a vector of length 196 containing the raw weight values in a call to 'update_probabilities'\n",
      "79 adjustments made to a vector of length 196 containing the raw weight values in a call to 'update_probabilities'\n",
      "148 adjustments made to a vector of length 196 containing the raw weight values in a call to 'update_probabilities'\n",
      "62 adjustments made to a vector of length 196 containing the raw weight values in a call to 'update_probabilities'\n",
      "79 adjustments made to a vector of length 196 containing the raw weight values in a call to 'update_probabilities'\n",
      "148 adjustments made to a vector of length 196 containing the raw weight values in a call to 'update_probabilities'\n",
      "97 adjustments made to a vector of length 196 containing the raw weight values in a call to 'update_probabilities'\n",
      "62 adjustments made to a vector of length 196 containing the raw weight values in a call to 'update_probabilities'\n",
      "97 adjustments made to a vector of length 196 containing the raw weight values in a call to 'update_probabilities'\n",
      "62 adjustments made to a vector of length 196 containing the raw weight values in a call to 'update_probabilities'\n",
      "97 adjustments made to a vector of length 196 containing the raw weight values in a call to 'update_probabilities'\n",
      "83 adjustments made to a vector of length 196 containing the raw weight values in a call to 'update_probabilities'\n",
      "148 adjustments made to a vector of length 196 containing the raw weight values in a call to 'update_probabilities'\n",
      "56 adjustments made to a vector of length 196 containing the raw weight values in a call to 'update_probabilities'\n",
      "138 adjustments made to a vector of length 196 containing the raw weight values in a call to 'update_probabilities'\n",
      "97 adjustments made to a vector of length 196 containing the raw weight values in a call to 'update_probabilities'\n",
      "CPU times: user 1min 18s, sys: 259 ms, total: 1min 18s\n",
      "Wall time: 1min 19s\n"
     ]
    }
   ],
   "source": [
    "%%time\n",
    "def NMF_gene_signature(feature_weight_vector):\n",
    "    mean = feature_weight_vector.mean()\n",
    "    cutoff = gene_signature_std * feature_weight_vector.std()\n",
    "    positive_gene_signature = set(\n",
    "        feature_weight_vector[(feature_weight_vector >=\n",
    "                              mean + cutoff)].index)\n",
    "    return (positive_gene_signature, set())\n",
    "\n",
    "model_pathways = []\n",
    "for weights in model_weights:\n",
    "    feature_significant_pathways = get_pathways_overrepresented_in_features(\n",
    "        weights, pathway_definitions_map, NMF_gene_signature)\n",
    "    model_pathways.append(feature_significant_pathways[\"significant_pathways\"])"
   ]
  },
  {
   "cell_type": "markdown",
   "metadata": {},
   "source": [
    "Network construction"
   ]
  },
  {
   "cell_type": "code",
   "execution_count": 15,
   "metadata": {},
   "outputs": [],
   "source": [
    "aggregate_network = None\n",
    "networks = []\n",
    "for mp in model_pathways:\n",
    "    model_network = CoNetwork(\n",
    "        n_features, significant_pathways=mp)\n",
    "    networks.append(model_network)\n",
    "    if aggregate_network is None:\n",
    "        aggregate_network = deepcopy(model_network)\n",
    "    else:\n",
    "        aggregate_network.aggregate(model_network)"
   ]
  },
  {
   "cell_type": "code",
   "execution_count": 16,
   "metadata": {},
   "outputs": [
    {
     "name": "stdout",
     "output_type": "stream",
     "text": [
      "The pathway co-occurrence network contains 85 pathways.\n",
      "Number of edges in the network: 591\n",
      "Number of edges with a weight above 1 (i.e. the pathway-pathway relationship appears in more than one feature): 457\n"
     ]
    },
    {
     "data": {
      "text/html": [
       "<div>\n",
       "<style>\n",
       "    .dataframe thead tr:only-child th {\n",
       "        text-align: right;\n",
       "    }\n",
       "\n",
       "    .dataframe thead th {\n",
       "        text-align: left;\n",
       "    }\n",
       "\n",
       "    .dataframe tbody tr th {\n",
       "        vertical-align: top;\n",
       "    }\n",
       "</style>\n",
       "<table border=\"1\" class=\"dataframe\">\n",
       "  <thead>\n",
       "    <tr style=\"text-align: right;\">\n",
       "      <th></th>\n",
       "      <th>pw0</th>\n",
       "      <th>pw1</th>\n",
       "      <th>weight</th>\n",
       "    </tr>\n",
       "  </thead>\n",
       "  <tbody>\n",
       "    <tr>\n",
       "      <th>2</th>\n",
       "      <td>A6B1_A6B4_INTEGRIN_PATHWAY</td>\n",
       "      <td>TAP63_PATHWAY</td>\n",
       "      <td>28</td>\n",
       "    </tr>\n",
       "    <tr>\n",
       "      <th>69</th>\n",
       "      <td>IL12_2PATHWAY</td>\n",
       "      <td>TOLL_ENDOGENOUS_PATHWAY</td>\n",
       "      <td>20</td>\n",
       "    </tr>\n",
       "    <tr>\n",
       "      <th>245</th>\n",
       "      <td>AVB3_INTEGRIN_PATHWAY</td>\n",
       "      <td>INTEGRIN1_PATHWAY</td>\n",
       "      <td>20</td>\n",
       "    </tr>\n",
       "    <tr>\n",
       "      <th>58</th>\n",
       "      <td>FCER1_PATHWAY</td>\n",
       "      <td>IL12_2PATHWAY</td>\n",
       "      <td>19</td>\n",
       "    </tr>\n",
       "    <tr>\n",
       "      <th>19</th>\n",
       "      <td>IL12_2PATHWAY</td>\n",
       "      <td>IL4_2PATHWAY</td>\n",
       "      <td>19</td>\n",
       "    </tr>\n",
       "  </tbody>\n",
       "</table>\n",
       "</div>"
      ],
      "text/plain": [
       "                            pw0                      pw1 weight\n",
       "2    A6B1_A6B4_INTEGRIN_PATHWAY            TAP63_PATHWAY     28\n",
       "69                IL12_2PATHWAY  TOLL_ENDOGENOUS_PATHWAY     20\n",
       "245       AVB3_INTEGRIN_PATHWAY        INTEGRIN1_PATHWAY     20\n",
       "58                FCER1_PATHWAY            IL12_2PATHWAY     19\n",
       "19                IL12_2PATHWAY             IL4_2PATHWAY     19"
      ]
     },
     "execution_count": 16,
     "metadata": {},
     "output_type": "execute_result"
    }
   ],
   "source": [
    "model_network_df = aggregate_network.to_dataframe()\n",
    "print(\"Number of edges in the network: {0}\".format(len(model_network_df)))\n",
    "\n",
    "edges_above_one = model_network_df[model_network_df.weight > 1]\n",
    "print(\"Number of edges with a weight above 1 \"\n",
    "      \"(i.e. the pathway-pathway relationship appears \"\n",
    "      \"in more than one feature): {0}\".format(\n",
    "          len(edges_above_one)))\n",
    "edges_above_one.head()"
   ]
  },
  {
   "cell_type": "markdown",
   "metadata": {},
   "source": [
    "Permutation test"
   ]
  },
  {
   "cell_type": "code",
   "execution_count": 17,
   "metadata": {},
   "outputs": [
    {
     "name": "stdout",
     "output_type": "stream",
     "text": [
      "CPU times: user 13min 23s, sys: 6.91 s, total: 13min 30s\n",
      "Wall time: 13min 36s\n"
     ]
    }
   ],
   "source": [
    "%%time\n",
    "permutations = []\n",
    "for i in range(10000):\n",
    "    permutations.append(aggregate_permuted_network(networks))"
   ]
  },
  {
   "cell_type": "code",
   "execution_count": 18,
   "metadata": {},
   "outputs": [
    {
     "name": "stdout",
     "output_type": "stream",
     "text": [
      "364 edges are significant under the null distribution, generated from 10000 permutations, for alpha = 0.05.\n"
     ]
    }
   ],
   "source": [
    "final_network = network_edges_permutation_test(\n",
    "    aggregate_network, permutations, permutation_test_alpha,\n",
    "    n_networks=10)"
   ]
  },
  {
   "cell_type": "code",
   "execution_count": 19,
   "metadata": {},
   "outputs": [
    {
     "data": {
      "text/html": [
       "<div>\n",
       "<style>\n",
       "    .dataframe thead tr:only-child th {\n",
       "        text-align: right;\n",
       "    }\n",
       "\n",
       "    .dataframe thead th {\n",
       "        text-align: left;\n",
       "    }\n",
       "\n",
       "    .dataframe tbody tr th {\n",
       "        vertical-align: top;\n",
       "    }\n",
       "</style>\n",
       "<table border=\"1\" class=\"dataframe\">\n",
       "  <thead>\n",
       "    <tr style=\"text-align: right;\">\n",
       "      <th></th>\n",
       "      <th>odds ratio</th>\n",
       "      <th>pw0</th>\n",
       "      <th>pw1</th>\n",
       "    </tr>\n",
       "  </thead>\n",
       "  <tbody>\n",
       "    <tr>\n",
       "      <th>0</th>\n",
       "      <td>2.351743</td>\n",
       "      <td>P53_DOWNSTREAM_PATHWAY</td>\n",
       "      <td>TAP63_PATHWAY</td>\n",
       "    </tr>\n",
       "    <tr>\n",
       "      <th>1</th>\n",
       "      <td>4.448298</td>\n",
       "      <td>NECTIN_PATHWAY</td>\n",
       "      <td>TAP63_PATHWAY</td>\n",
       "    </tr>\n",
       "    <tr>\n",
       "      <th>2</th>\n",
       "      <td>2.868206</td>\n",
       "      <td>A6B1_A6B4_INTEGRIN_PATHWAY</td>\n",
       "      <td>TAP63_PATHWAY</td>\n",
       "    </tr>\n",
       "    <tr>\n",
       "      <th>3</th>\n",
       "      <td>2.488682</td>\n",
       "      <td>NFAT_TFPATHWAY</td>\n",
       "      <td>TAP63_PATHWAY</td>\n",
       "    </tr>\n",
       "    <tr>\n",
       "      <th>4</th>\n",
       "      <td>4.995847</td>\n",
       "      <td>NECTIN_PATHWAY</td>\n",
       "      <td>P53_DOWNSTREAM_PATHWAY</td>\n",
       "    </tr>\n",
       "    <tr>\n",
       "      <th>5</th>\n",
       "      <td>3.144205</td>\n",
       "      <td>NFAT_TFPATHWAY</td>\n",
       "      <td>P53_DOWNSTREAM_PATHWAY</td>\n",
       "    </tr>\n",
       "    <tr>\n",
       "      <th>6</th>\n",
       "      <td>2.776606</td>\n",
       "      <td>A6B1_A6B4_INTEGRIN_PATHWAY</td>\n",
       "      <td>NECTIN_PATHWAY</td>\n",
       "    </tr>\n",
       "    <tr>\n",
       "      <th>7</th>\n",
       "      <td>5.436900</td>\n",
       "      <td>NECTIN_PATHWAY</td>\n",
       "      <td>NFAT_TFPATHWAY</td>\n",
       "    </tr>\n",
       "    <tr>\n",
       "      <th>8</th>\n",
       "      <td>5.312139</td>\n",
       "      <td>CXCR4_PATHWAY</td>\n",
       "      <td>IL4_2PATHWAY</td>\n",
       "    </tr>\n",
       "    <tr>\n",
       "      <th>9</th>\n",
       "      <td>2.878846</td>\n",
       "      <td>IL4_2PATHWAY</td>\n",
       "      <td>TCR_PATHWAY</td>\n",
       "    </tr>\n",
       "    <tr>\n",
       "      <th>10</th>\n",
       "      <td>5.734020</td>\n",
       "      <td>FCER1_PATHWAY</td>\n",
       "      <td>IL4_2PATHWAY</td>\n",
       "    </tr>\n",
       "    <tr>\n",
       "      <th>11</th>\n",
       "      <td>5.668813</td>\n",
       "      <td>IL4_2PATHWAY</td>\n",
       "      <td>TOLL_ENDOGENOUS_PATHWAY</td>\n",
       "    </tr>\n",
       "    <tr>\n",
       "      <th>12</th>\n",
       "      <td>4.523027</td>\n",
       "      <td>CXCR3_PATHWAY</td>\n",
       "      <td>IL4_2PATHWAY</td>\n",
       "    </tr>\n",
       "    <tr>\n",
       "      <th>13</th>\n",
       "      <td>2.556614</td>\n",
       "      <td>IL4_2PATHWAY</td>\n",
       "      <td>TNF_PATHWAY</td>\n",
       "    </tr>\n",
       "    <tr>\n",
       "      <th>14</th>\n",
       "      <td>4.529039</td>\n",
       "      <td>BCR_5PATHWAY</td>\n",
       "      <td>IL4_2PATHWAY</td>\n",
       "    </tr>\n",
       "    <tr>\n",
       "      <th>15</th>\n",
       "      <td>3.019050</td>\n",
       "      <td>AMB2_NEUTROPHILS_PATHWAY</td>\n",
       "      <td>IL4_2PATHWAY</td>\n",
       "    </tr>\n",
       "    <tr>\n",
       "      <th>16</th>\n",
       "      <td>5.647587</td>\n",
       "      <td>IL12_2PATHWAY</td>\n",
       "      <td>IL4_2PATHWAY</td>\n",
       "    </tr>\n",
       "    <tr>\n",
       "      <th>17</th>\n",
       "      <td>2.548007</td>\n",
       "      <td>CD8_TCR_DOWNSTREAM_PATHWAY</td>\n",
       "      <td>IL4_2PATHWAY</td>\n",
       "    </tr>\n",
       "    <tr>\n",
       "      <th>18</th>\n",
       "      <td>4.535527</td>\n",
       "      <td>GMCSF_PATHWAY</td>\n",
       "      <td>IL4_2PATHWAY</td>\n",
       "    </tr>\n",
       "    <tr>\n",
       "      <th>19</th>\n",
       "      <td>3.922989</td>\n",
       "      <td>IL4_2PATHWAY</td>\n",
       "      <td>INTEGRIN2_PATHWAY</td>\n",
       "    </tr>\n",
       "    <tr>\n",
       "      <th>20</th>\n",
       "      <td>2.571253</td>\n",
       "      <td>IL4_2PATHWAY</td>\n",
       "      <td>NFKAPPAB_CANONICAL_PATHWAY</td>\n",
       "    </tr>\n",
       "    <tr>\n",
       "      <th>21</th>\n",
       "      <td>2.667375</td>\n",
       "      <td>IL4_2PATHWAY</td>\n",
       "      <td>NFAT_TFPATHWAY</td>\n",
       "    </tr>\n",
       "    <tr>\n",
       "      <th>22</th>\n",
       "      <td>4.426628</td>\n",
       "      <td>CXCR4_PATHWAY</td>\n",
       "      <td>TCR_PATHWAY</td>\n",
       "    </tr>\n",
       "    <tr>\n",
       "      <th>23</th>\n",
       "      <td>6.317905</td>\n",
       "      <td>CXCR4_PATHWAY</td>\n",
       "      <td>FCER1_PATHWAY</td>\n",
       "    </tr>\n",
       "    <tr>\n",
       "      <th>24</th>\n",
       "      <td>6.487510</td>\n",
       "      <td>CXCR4_PATHWAY</td>\n",
       "      <td>TOLL_ENDOGENOUS_PATHWAY</td>\n",
       "    </tr>\n",
       "    <tr>\n",
       "      <th>25</th>\n",
       "      <td>6.138554</td>\n",
       "      <td>CXCR3_PATHWAY</td>\n",
       "      <td>CXCR4_PATHWAY</td>\n",
       "    </tr>\n",
       "    <tr>\n",
       "      <th>26</th>\n",
       "      <td>2.783930</td>\n",
       "      <td>CXCR4_PATHWAY</td>\n",
       "      <td>TNF_PATHWAY</td>\n",
       "    </tr>\n",
       "    <tr>\n",
       "      <th>27</th>\n",
       "      <td>6.091954</td>\n",
       "      <td>BCR_5PATHWAY</td>\n",
       "      <td>CXCR4_PATHWAY</td>\n",
       "    </tr>\n",
       "    <tr>\n",
       "      <th>28</th>\n",
       "      <td>3.375254</td>\n",
       "      <td>AMB2_NEUTROPHILS_PATHWAY</td>\n",
       "      <td>CXCR4_PATHWAY</td>\n",
       "    </tr>\n",
       "    <tr>\n",
       "      <th>29</th>\n",
       "      <td>6.497712</td>\n",
       "      <td>CXCR4_PATHWAY</td>\n",
       "      <td>IL12_2PATHWAY</td>\n",
       "    </tr>\n",
       "    <tr>\n",
       "      <th>...</th>\n",
       "      <td>...</td>\n",
       "      <td>...</td>\n",
       "      <td>...</td>\n",
       "    </tr>\n",
       "    <tr>\n",
       "      <th>334</th>\n",
       "      <td>3.650933</td>\n",
       "      <td>INTEGRIN1_PATHWAY</td>\n",
       "      <td>VEGF_VEGFR_PATHWAY</td>\n",
       "    </tr>\n",
       "    <tr>\n",
       "      <th>335</th>\n",
       "      <td>2.724625</td>\n",
       "      <td>P53_DOWNSTREAM_PATHWAY</td>\n",
       "      <td>VEGF_VEGFR_PATHWAY</td>\n",
       "    </tr>\n",
       "    <tr>\n",
       "      <th>336</th>\n",
       "      <td>2.788094</td>\n",
       "      <td>CXCR4_PATHWAY</td>\n",
       "      <td>VEGF_VEGFR_PATHWAY</td>\n",
       "    </tr>\n",
       "    <tr>\n",
       "      <th>337</th>\n",
       "      <td>3.793708</td>\n",
       "      <td>AVB3_INTEGRIN_PATHWAY</td>\n",
       "      <td>VEGF_VEGFR_PATHWAY</td>\n",
       "    </tr>\n",
       "    <tr>\n",
       "      <th>338</th>\n",
       "      <td>2.492259</td>\n",
       "      <td>IL4_2PATHWAY</td>\n",
       "      <td>VEGF_VEGFR_PATHWAY</td>\n",
       "    </tr>\n",
       "    <tr>\n",
       "      <th>339</th>\n",
       "      <td>2.703262</td>\n",
       "      <td>FCER1_PATHWAY</td>\n",
       "      <td>VEGF_VEGFR_PATHWAY</td>\n",
       "    </tr>\n",
       "    <tr>\n",
       "      <th>340</th>\n",
       "      <td>3.245342</td>\n",
       "      <td>UPA_UPAR_PATHWAY</td>\n",
       "      <td>VEGF_VEGFR_PATHWAY</td>\n",
       "    </tr>\n",
       "    <tr>\n",
       "      <th>341</th>\n",
       "      <td>3.355540</td>\n",
       "      <td>INTEGRIN_A9B1_PATHWAY</td>\n",
       "      <td>VEGF_VEGFR_PATHWAY</td>\n",
       "    </tr>\n",
       "    <tr>\n",
       "      <th>342</th>\n",
       "      <td>2.656234</td>\n",
       "      <td>TOLL_ENDOGENOUS_PATHWAY</td>\n",
       "      <td>VEGF_VEGFR_PATHWAY</td>\n",
       "    </tr>\n",
       "    <tr>\n",
       "      <th>343</th>\n",
       "      <td>4.024036</td>\n",
       "      <td>AP1_PATHWAY</td>\n",
       "      <td>VEGF_VEGFR_PATHWAY</td>\n",
       "    </tr>\n",
       "    <tr>\n",
       "      <th>344</th>\n",
       "      <td>2.647261</td>\n",
       "      <td>IL12_2PATHWAY</td>\n",
       "      <td>VEGF_VEGFR_PATHWAY</td>\n",
       "    </tr>\n",
       "    <tr>\n",
       "      <th>345</th>\n",
       "      <td>3.764931</td>\n",
       "      <td>INTEGRIN3_PATHWAY</td>\n",
       "      <td>VEGF_VEGFR_PATHWAY</td>\n",
       "    </tr>\n",
       "    <tr>\n",
       "      <th>346</th>\n",
       "      <td>2.772934</td>\n",
       "      <td>SYNDECAN_1_PATHWAY</td>\n",
       "      <td>VEGF_VEGFR_PATHWAY</td>\n",
       "    </tr>\n",
       "    <tr>\n",
       "      <th>347</th>\n",
       "      <td>2.598337</td>\n",
       "      <td>AURORA_A_PATHWAY</td>\n",
       "      <td>MYC_PATHWAY</td>\n",
       "    </tr>\n",
       "    <tr>\n",
       "      <th>348</th>\n",
       "      <td>2.337737</td>\n",
       "      <td>AVB3_INTEGRIN_PATHWAY</td>\n",
       "      <td>S1P_S1P3_PATHWAY</td>\n",
       "    </tr>\n",
       "    <tr>\n",
       "      <th>349</th>\n",
       "      <td>2.745209</td>\n",
       "      <td>S1P_S1P3_PATHWAY</td>\n",
       "      <td>SHP2_PATHWAY</td>\n",
       "    </tr>\n",
       "    <tr>\n",
       "      <th>350</th>\n",
       "      <td>2.414777</td>\n",
       "      <td>SHP2_PATHWAY</td>\n",
       "      <td>VEGF_VEGFR_PATHWAY</td>\n",
       "    </tr>\n",
       "    <tr>\n",
       "      <th>351</th>\n",
       "      <td>1.932478</td>\n",
       "      <td>ENDOTHELIN_PATHWAY</td>\n",
       "      <td>S1P_S1P3_PATHWAY</td>\n",
       "    </tr>\n",
       "    <tr>\n",
       "      <th>352</th>\n",
       "      <td>1.937712</td>\n",
       "      <td>ENDOTHELIN_PATHWAY</td>\n",
       "      <td>VEGF_VEGFR_PATHWAY</td>\n",
       "    </tr>\n",
       "    <tr>\n",
       "      <th>353</th>\n",
       "      <td>2.776596</td>\n",
       "      <td>ALPHA_SYNUCLEIN_PATHWAY</td>\n",
       "      <td>S1P_S1P3_PATHWAY</td>\n",
       "    </tr>\n",
       "    <tr>\n",
       "      <th>354</th>\n",
       "      <td>2.384337</td>\n",
       "      <td>INTEGRIN1_PATHWAY</td>\n",
       "      <td>S1P_S1P3_PATHWAY</td>\n",
       "    </tr>\n",
       "    <tr>\n",
       "      <th>355</th>\n",
       "      <td>2.796682</td>\n",
       "      <td>ILK_PATHWAY</td>\n",
       "      <td>S1P_S1P3_PATHWAY</td>\n",
       "    </tr>\n",
       "    <tr>\n",
       "      <th>356</th>\n",
       "      <td>2.429528</td>\n",
       "      <td>ILK_PATHWAY</td>\n",
       "      <td>VEGF_VEGFR_PATHWAY</td>\n",
       "    </tr>\n",
       "    <tr>\n",
       "      <th>357</th>\n",
       "      <td>2.742710</td>\n",
       "      <td>ALK1_PATHWAY</td>\n",
       "      <td>S1P_S1P3_PATHWAY</td>\n",
       "    </tr>\n",
       "    <tr>\n",
       "      <th>358</th>\n",
       "      <td>1.926230</td>\n",
       "      <td>RET_PATHWAY</td>\n",
       "      <td>S1P_S1P3_PATHWAY</td>\n",
       "    </tr>\n",
       "    <tr>\n",
       "      <th>359</th>\n",
       "      <td>1.848386</td>\n",
       "      <td>RET_PATHWAY</td>\n",
       "      <td>VEGF_VEGFR_PATHWAY</td>\n",
       "    </tr>\n",
       "    <tr>\n",
       "      <th>360</th>\n",
       "      <td>2.808824</td>\n",
       "      <td>ANTHRAX_PATHWAY</td>\n",
       "      <td>S1P_S1P3_PATHWAY</td>\n",
       "    </tr>\n",
       "    <tr>\n",
       "      <th>361</th>\n",
       "      <td>1.855163</td>\n",
       "      <td>S1P_S1P3_PATHWAY</td>\n",
       "      <td>VEGF_VEGFR_PATHWAY</td>\n",
       "    </tr>\n",
       "    <tr>\n",
       "      <th>362</th>\n",
       "      <td>2.685021</td>\n",
       "      <td>ANTHRAX_PATHWAY</td>\n",
       "      <td>VEGF_VEGFR_PATHWAY</td>\n",
       "    </tr>\n",
       "    <tr>\n",
       "      <th>363</th>\n",
       "      <td>1.935808</td>\n",
       "      <td>MTOR_4PATHWAY</td>\n",
       "      <td>SMAD2_3PATHWAY</td>\n",
       "    </tr>\n",
       "  </tbody>\n",
       "</table>\n",
       "<p>364 rows × 3 columns</p>\n",
       "</div>"
      ],
      "text/plain": [
       "     odds ratio                         pw0                         pw1\n",
       "0      2.351743      P53_DOWNSTREAM_PATHWAY               TAP63_PATHWAY\n",
       "1      4.448298              NECTIN_PATHWAY               TAP63_PATHWAY\n",
       "2      2.868206  A6B1_A6B4_INTEGRIN_PATHWAY               TAP63_PATHWAY\n",
       "3      2.488682              NFAT_TFPATHWAY               TAP63_PATHWAY\n",
       "4      4.995847              NECTIN_PATHWAY      P53_DOWNSTREAM_PATHWAY\n",
       "5      3.144205              NFAT_TFPATHWAY      P53_DOWNSTREAM_PATHWAY\n",
       "6      2.776606  A6B1_A6B4_INTEGRIN_PATHWAY              NECTIN_PATHWAY\n",
       "7      5.436900              NECTIN_PATHWAY              NFAT_TFPATHWAY\n",
       "8      5.312139               CXCR4_PATHWAY                IL4_2PATHWAY\n",
       "9      2.878846                IL4_2PATHWAY                 TCR_PATHWAY\n",
       "10     5.734020               FCER1_PATHWAY                IL4_2PATHWAY\n",
       "11     5.668813                IL4_2PATHWAY     TOLL_ENDOGENOUS_PATHWAY\n",
       "12     4.523027               CXCR3_PATHWAY                IL4_2PATHWAY\n",
       "13     2.556614                IL4_2PATHWAY                 TNF_PATHWAY\n",
       "14     4.529039                BCR_5PATHWAY                IL4_2PATHWAY\n",
       "15     3.019050    AMB2_NEUTROPHILS_PATHWAY                IL4_2PATHWAY\n",
       "16     5.647587               IL12_2PATHWAY                IL4_2PATHWAY\n",
       "17     2.548007  CD8_TCR_DOWNSTREAM_PATHWAY                IL4_2PATHWAY\n",
       "18     4.535527               GMCSF_PATHWAY                IL4_2PATHWAY\n",
       "19     3.922989                IL4_2PATHWAY           INTEGRIN2_PATHWAY\n",
       "20     2.571253                IL4_2PATHWAY  NFKAPPAB_CANONICAL_PATHWAY\n",
       "21     2.667375                IL4_2PATHWAY              NFAT_TFPATHWAY\n",
       "22     4.426628               CXCR4_PATHWAY                 TCR_PATHWAY\n",
       "23     6.317905               CXCR4_PATHWAY               FCER1_PATHWAY\n",
       "24     6.487510               CXCR4_PATHWAY     TOLL_ENDOGENOUS_PATHWAY\n",
       "25     6.138554               CXCR3_PATHWAY               CXCR4_PATHWAY\n",
       "26     2.783930               CXCR4_PATHWAY                 TNF_PATHWAY\n",
       "27     6.091954                BCR_5PATHWAY               CXCR4_PATHWAY\n",
       "28     3.375254    AMB2_NEUTROPHILS_PATHWAY               CXCR4_PATHWAY\n",
       "29     6.497712               CXCR4_PATHWAY               IL12_2PATHWAY\n",
       "..          ...                         ...                         ...\n",
       "334    3.650933           INTEGRIN1_PATHWAY          VEGF_VEGFR_PATHWAY\n",
       "335    2.724625      P53_DOWNSTREAM_PATHWAY          VEGF_VEGFR_PATHWAY\n",
       "336    2.788094               CXCR4_PATHWAY          VEGF_VEGFR_PATHWAY\n",
       "337    3.793708       AVB3_INTEGRIN_PATHWAY          VEGF_VEGFR_PATHWAY\n",
       "338    2.492259                IL4_2PATHWAY          VEGF_VEGFR_PATHWAY\n",
       "339    2.703262               FCER1_PATHWAY          VEGF_VEGFR_PATHWAY\n",
       "340    3.245342            UPA_UPAR_PATHWAY          VEGF_VEGFR_PATHWAY\n",
       "341    3.355540       INTEGRIN_A9B1_PATHWAY          VEGF_VEGFR_PATHWAY\n",
       "342    2.656234     TOLL_ENDOGENOUS_PATHWAY          VEGF_VEGFR_PATHWAY\n",
       "343    4.024036                 AP1_PATHWAY          VEGF_VEGFR_PATHWAY\n",
       "344    2.647261               IL12_2PATHWAY          VEGF_VEGFR_PATHWAY\n",
       "345    3.764931           INTEGRIN3_PATHWAY          VEGF_VEGFR_PATHWAY\n",
       "346    2.772934          SYNDECAN_1_PATHWAY          VEGF_VEGFR_PATHWAY\n",
       "347    2.598337            AURORA_A_PATHWAY                 MYC_PATHWAY\n",
       "348    2.337737       AVB3_INTEGRIN_PATHWAY            S1P_S1P3_PATHWAY\n",
       "349    2.745209            S1P_S1P3_PATHWAY                SHP2_PATHWAY\n",
       "350    2.414777                SHP2_PATHWAY          VEGF_VEGFR_PATHWAY\n",
       "351    1.932478          ENDOTHELIN_PATHWAY            S1P_S1P3_PATHWAY\n",
       "352    1.937712          ENDOTHELIN_PATHWAY          VEGF_VEGFR_PATHWAY\n",
       "353    2.776596     ALPHA_SYNUCLEIN_PATHWAY            S1P_S1P3_PATHWAY\n",
       "354    2.384337           INTEGRIN1_PATHWAY            S1P_S1P3_PATHWAY\n",
       "355    2.796682                 ILK_PATHWAY            S1P_S1P3_PATHWAY\n",
       "356    2.429528                 ILK_PATHWAY          VEGF_VEGFR_PATHWAY\n",
       "357    2.742710                ALK1_PATHWAY            S1P_S1P3_PATHWAY\n",
       "358    1.926230                 RET_PATHWAY            S1P_S1P3_PATHWAY\n",
       "359    1.848386                 RET_PATHWAY          VEGF_VEGFR_PATHWAY\n",
       "360    2.808824             ANTHRAX_PATHWAY            S1P_S1P3_PATHWAY\n",
       "361    1.855163            S1P_S1P3_PATHWAY          VEGF_VEGFR_PATHWAY\n",
       "362    2.685021             ANTHRAX_PATHWAY          VEGF_VEGFR_PATHWAY\n",
       "363    1.935808               MTOR_4PATHWAY              SMAD2_3PATHWAY\n",
       "\n",
       "[364 rows x 3 columns]"
      ]
     },
     "execution_count": 19,
     "metadata": {},
     "output_type": "execute_result"
    }
   ],
   "source": [
    "significant_edges = []\n",
    "for edge_id, edge_obj in final_network.edges.items():\n",
    "    if edge_obj.significant:\n",
    "        pw0, pw1 = final_network.get_edge_pathways(edge_id)\n",
    "        significant_edges.append({\"pw0\": pw0, \"pw1\": pw1, \"odds ratio\": edge_obj.weight})\n",
    "significant_edges_df = pd.DataFrame(significant_edges)\n",
    "significant_edges_df.sort_values(\"odds ratio\", ascending=False)\n",
    "significant_edges_df"
   ]
  },
  {
   "cell_type": "markdown",
   "metadata": {},
   "source": [
    "Check which edges the _k_=24 NMF-based TCGA PID network has in common with the _k_=300 NMF-based TCGA PID network "
   ]
  },
  {
   "cell_type": "code",
   "execution_count": 20,
   "metadata": {},
   "outputs": [
    {
     "name": "stdout",
     "output_type": "stream",
     "text": [
      "Number of edges in the manuscript's k=300 NMF-based TCGA PID network: 119\n"
     ]
    }
   ],
   "source": [
    "NMF_k300_edges_file = os.path.join(tcga_data_dir,\n",
    "                                   \"NMF_analysis\",\n",
    "                                   \"permutation_test_N=10000\",\n",
    "                                   \"significant_edges.tsv\")\n",
    "NMF_k300_edges = {}\n",
    "with open(NMF_k300_edges_file, 'r') as file_handle:\n",
    "    file_handle.readline()\n",
    "    for line in file_handle:\n",
    "        cols = line.strip().split('\\t')\n",
    "        NMF_k300_edges[(cols[0], cols[1])] = float(cols[-1])\n",
    "print(\"Number of edges in the manuscript's k=300 \"\n",
    "      \"NMF-based TCGA PID network: {0}\".format(\n",
    "          len(NMF_k300_edges)))"
   ]
  },
  {
   "cell_type": "code",
   "execution_count": 21,
   "metadata": {},
   "outputs": [],
   "source": [
    "# shorten the PID pathway names so that they match the ones\n",
    "# we use in the publication\n",
    "def tcga_shorten_pid(pathway_name):\n",
    "    REMOVE_SUFFIX = \"PATHWAY\"\n",
    "    pathway_short = None\n",
    "    split_on_underscores = pathway_name.split(\"_\")\n",
    "    if split_on_underscores[-1] == REMOVE_SUFFIX:\n",
    "        pathway_short = \" \".join(split_on_underscores[:-1])\n",
    "    else:\n",
    "        pathway_short = \" \".join(split_on_underscores)\n",
    "    return pathway_short\n",
    "\n",
    "NMF_k24_edges = {}\n",
    "for edge_id, edge_obj in final_network.edges.items():\n",
    "    if edge_obj.significant:\n",
    "        pw0, pw1 = final_network.get_edge_pathways(edge_id)\n",
    "        pw0 = tcga_shorten_pid(pw0)\n",
    "        pw1 = tcga_shorten_pid(pw1)\n",
    "        NMF_k24_edges[(pw0, pw1)] = edge_obj.weight"
   ]
  },
  {
   "cell_type": "code",
   "execution_count": 22,
   "metadata": {},
   "outputs": [
    {
     "name": "stdout",
     "output_type": "stream",
     "text": [
      "Common edges: 65\n"
     ]
    }
   ],
   "source": [
    "set_of_k24_edges = set(NMF_k24_edges.keys())\n",
    "set_of_k300_edges = set(NMF_k300_edges.keys())\n",
    "common_edges = set_of_k24_edges & set_of_k300_edges\n",
    "print(\"Common edges: {0}\".format(len(common_edges)))"
   ]
  },
  {
   "cell_type": "code",
   "execution_count": 23,
   "metadata": {},
   "outputs": [],
   "source": [
    "remaining_k300_edges = set_of_k300_edges - set_of_k24_edges"
   ]
  },
  {
   "cell_type": "code",
   "execution_count": 24,
   "metadata": {
    "collapsed": true
   },
   "outputs": [],
   "source": [
    "remaining_k24_edges = set_of_k24_edges - set_of_k300_edges"
   ]
  },
  {
   "cell_type": "markdown",
   "metadata": {},
   "source": [
    "The edges that the two networks share have a higher weight, on average, than the edges that the two networks do not share:"
   ]
  },
  {
   "cell_type": "code",
   "execution_count": 25,
   "metadata": {},
   "outputs": [
    {
     "name": "stdout",
     "output_type": "stream",
     "text": [
      "Average weight of edges in the k=300 NMF-based network common to the k=300 and k=24 NMF-based networks: 3.77\n",
      "Average weight of edges in the k=24 NMF-based network common to the k=300 and k=24 NMF-based networks: 5.38\n"
     ]
    }
   ],
   "source": [
    "common_k300_edge_weights = [] \n",
    "common_k24_edge_weights = []\n",
    "for e in common_edges:\n",
    "    common_k300_edge_weights.append(NMF_k300_edges[e])\n",
    "    common_k24_edge_weights.append(NMF_k24_edges[e])\n",
    "print(\"Average weight of edges in the k=300 NMF-based network \"\n",
    "      \"common to the k=300 and k=24 NMF-based networks: {0:.3}\".format(\n",
    "           np.average(common_k300_edge_weights)))\n",
    "print(\"Average weight of edges in the k=24 NMF-based network \"\n",
    "      \"common to the k=300 and k=24 NMF-based networks: {0:.3}\".format(\n",
    "           np.average(common_k24_edge_weights)))"
   ]
  },
  {
   "cell_type": "code",
   "execution_count": 26,
   "metadata": {},
   "outputs": [
    {
     "name": "stdout",
     "output_type": "stream",
     "text": [
      "Average weight of edges in the k=300 NMF-based network not in the k=24 network: 2.76\n"
     ]
    }
   ],
   "source": [
    "remaining_k300_edge_weights = [] \n",
    "for e in remaining_k300_edges:\n",
    "    remaining_k300_edge_weights.append(NMF_k300_edges[e])\n",
    "print(\"Average weight of edges in the k=300 NMF-based network \"\n",
    "       \"not in the k=24 network: {0:.3}\".format(\n",
    "           np.average(remaining_k300_edge_weights)))"
   ]
  },
  {
   "cell_type": "code",
   "execution_count": 27,
   "metadata": {},
   "outputs": [
    {
     "name": "stdout",
     "output_type": "stream",
     "text": [
      "Average weight of edges in the k=24 NMF-based network not in the k=300 network: 3.75\n"
     ]
    }
   ],
   "source": [
    "remaining_k24_edge_weights = [] \n",
    "for e in remaining_k24_edges:\n",
    "    remaining_k24_edge_weights.append(NMF_k24_edges[e])\n",
    "print(\"Average weight of edges in the k=24 NMF-based network \"\n",
    "       \"not in the k=300 network: {0:.3}\".format(\n",
    "           np.average(remaining_k24_edge_weights)))"
   ]
  }
 ],
 "metadata": {
  "kernelspec": {
   "display_name": "Python [default]",
   "language": "python",
   "name": "python3"
  },
  "language_info": {
   "codemirror_mode": {
    "name": "ipython",
    "version": 3
   },
   "file_extension": ".py",
   "mimetype": "text/x-python",
   "name": "python",
   "nbconvert_exporter": "python",
   "pygments_lexer": "ipython3",
   "version": "3.6.1"
  }
 },
 "nbformat": 4,
 "nbformat_minor": 2
}
